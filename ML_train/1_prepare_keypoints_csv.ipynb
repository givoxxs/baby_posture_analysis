{
 "cells": [
  {
   "cell_type": "markdown",
   "id": "6efa340b",
   "metadata": {},
   "source": [
    "# Phân chia dữ liệu ảnh tư thế em bé\n",
    "\n",
    "Notebook này sẽ:\n",
    "1. Đọc dữ liệu ảnh từ 3 thư mục con: `nam_nghieng`, `nam_ngua`, `nam_sap` trong thư mục \"data_baby_posture\"\n",
    "2. Hiển thị số lượng ảnh trong mỗi thư mục\n",
    "3. Chia dữ liệu thành tập train, val, test với tỉ lệ 70:15:15\n",
    "4. Tạo cấu trúc thư mục mới theo yêu cầu"
   ]
  },
  {
   "cell_type": "code",
   "execution_count": 4,
   "id": "a9c481d3",
   "metadata": {},
   "outputs": [],
   "source": [
    "# Import các thư viện cần thiết\n",
    "import os\n",
    "import shutil\n",
    "import random\n",
    "from pathlib import Path\n",
    "import matplotlib.pyplot as plt\n",
    "import numpy as np"
   ]
  },
  {
   "cell_type": "code",
   "execution_count": 5,
   "id": "6e201bd6",
   "metadata": {},
   "outputs": [
    {
     "name": "stdout",
     "output_type": "stream",
     "text": [
      "Thư mục d:\\GiaoPhan_Workspace\\sem_6\\pbl5\\baby_posture_analysis\\data đã tồn tại\n"
     ]
    }
   ],
   "source": [
    "# Thiết lập đường dẫn\n",
    "# Đường dẫn gốc của dự án\n",
    "root_path = Path('d:/GiaoPhan_Workspace/sem_6/pbl5/baby_posture_analysis')\n",
    "\n",
    "# Đường dẫn thư mục chứa dữ liệu gốc\n",
    "data_source_path = root_path / 'data_baby_posture'\n",
    "\n",
    "# Đường dẫn thư mục đích để lưu dữ liệu đã chia\n",
    "data_dest_path = root_path / 'data'\n",
    "\n",
    "# Tạo thư mục đích nếu chưa tồn tại\n",
    "if not data_dest_path.exists():\n",
    "    os.makedirs(data_dest_path)\n",
    "    print(f\"Đã tạo thư mục {data_dest_path}\")\n",
    "else:\n",
    "    print(f\"Thư mục {data_dest_path} đã tồn tại\")"
   ]
  },
  {
   "cell_type": "code",
   "execution_count": 6,
   "id": "c5dd1431",
   "metadata": {},
   "outputs": [
    {
     "name": "stdout",
     "output_type": "stream",
     "text": [
      "Số lượng ảnh trong mỗi thư mục:\n",
      "- nam_nghieng: 134 ảnh\n",
      "- nam_ngua: 156 ảnh\n",
      "- nam_sap: 149 ảnh\n",
      "\n",
      "Tổng số ảnh: 439\n"
     ]
    }
   ],
   "source": [
    "# Các lớp (classes) cần xử lý\n",
    "classes = ['nam_nghieng', 'nam_ngua', 'nam_sap']\n",
    "\n",
    "# Tạo dictionary để lưu danh sách tệp theo lớp\n",
    "files_by_class = {}\n",
    "\n",
    "# Đếm số lượng tệp trong mỗi thư mục\n",
    "print(\"Số lượng ảnh trong mỗi thư mục:\")\n",
    "for class_name in classes:\n",
    "    class_path = data_source_path / class_name\n",
    "    if class_path.exists():\n",
    "        image_files = [f for f in os.listdir(class_path) if f.lower().endswith(('.jpg', '.jpeg', '.png'))]\n",
    "        files_by_class[class_name] = image_files\n",
    "        print(f\"- {class_name}: {len(image_files)} ảnh\")\n",
    "    else:\n",
    "        print(f\"- {class_name}: Thư mục không tồn tại\")\n",
    "        files_by_class[class_name] = []\n",
    "\n",
    "# Tổng số ảnh\n",
    "total_images = sum(len(files) for files in files_by_class.values())\n",
    "print(f\"\\nTổng số ảnh: {total_images}\")"
   ]
  },
  {
   "cell_type": "code",
   "execution_count": 7,
   "id": "dd53cdcc",
   "metadata": {},
   "outputs": [
    {
     "data": {
      "image/png": "[encoded data removed]",
      "text/plain": [
       "<Figure size 1000x600 with 1 Axes>"
      ]
     },
     "metadata": {},
     "output_type": "display_data"
    }
   ],
   "source": [
    "# Hiển thị biểu đồ phân bố dữ liệu\n",
    "class_names = list(files_by_class.keys())\n",
    "image_counts = [len(files_by_class[class_name]) for class_name in class_names]\n",
    "\n",
    "plt.figure(figsize=(10, 6))\n",
    "plt.bar(class_names, image_counts, color=['blue', 'green', 'orange'])\n",
    "plt.title('Phân bố số lượng ảnh theo lớp')\n",
    "plt.xlabel('Lớp')\n",
    "plt.ylabel('Số lượng ảnh')\n",
    "for i, count in enumerate(image_counts):\n",
    "    plt.text(i, count + 5, str(count), ha='center')\n",
    "plt.tight_layout()\n",
    "plt.show()"
   ]
  },
  {
   "cell_type": "code",
   "execution_count": 8,
   "id": "2cfb0fbf",
   "metadata": {},
   "outputs": [
    {
     "name": "stdout",
     "output_type": "stream",
     "text": [
      "Đã tạo thư mục d:\\GiaoPhan_Workspace\\sem_6\\pbl5\\baby_posture_analysis\\data\\train\n",
      "Đã tạo thư mục d:\\GiaoPhan_Workspace\\sem_6\\pbl5\\baby_posture_analysis\\data\\train\\nam_nghieng\n",
      "Đã tạo thư mục d:\\GiaoPhan_Workspace\\sem_6\\pbl5\\baby_posture_analysis\\data\\train\\nam_ngua\n",
      "Đã tạo thư mục d:\\GiaoPhan_Workspace\\sem_6\\pbl5\\baby_posture_analysis\\data\\train\\nam_sap\n",
      "Đã tạo thư mục d:\\GiaoPhan_Workspace\\sem_6\\pbl5\\baby_posture_analysis\\data\\test\n",
      "Đã tạo thư mục d:\\GiaoPhan_Workspace\\sem_6\\pbl5\\baby_posture_analysis\\data\\test\\nam_nghieng\n",
      "Đã tạo thư mục d:\\GiaoPhan_Workspace\\sem_6\\pbl5\\baby_posture_analysis\\data\\test\\nam_ngua\n",
      "Đã tạo thư mục d:\\GiaoPhan_Workspace\\sem_6\\pbl5\\baby_posture_analysis\\data\\test\\nam_sap\n"
     ]
    }
   ],
   "source": [
    "# Thiết lập tỉ lệ phân chia\n",
    "train_ratio = 0.8\n",
    "test_ratio = 0.2\n",
    "\n",
    "# Tạo cấu trúc thư mục đích\n",
    "splits = ['train', 'test']\n",
    "for split in splits:\n",
    "    split_path = data_dest_path / split\n",
    "    if not split_path.exists():\n",
    "        os.makedirs(split_path)\n",
    "        print(f\"Đã tạo thư mục {split_path}\")\n",
    "    \n",
    "    # Tạo thư mục con cho mỗi lớp trong mỗi split\n",
    "    for class_name in classes:\n",
    "        class_split_path = split_path / class_name\n",
    "        if not class_split_path.exists():\n",
    "            os.makedirs(class_split_path)\n",
    "            print(f\"Đã tạo thư mục {class_split_path}\")"
   ]
  },
  {
   "cell_type": "code",
   "execution_count": 9,
   "id": "e5a396eb",
   "metadata": {},
   "outputs": [
    {
     "name": "stdout",
     "output_type": "stream",
     "text": [
      "Kết quả phân chia dữ liệu:\n",
      "\n",
      "TRAIN:\n",
      "  - nam_nghieng: 107 ảnh\n",
      "  - nam_ngua: 124 ảnh\n",
      "  - nam_sap: 119 ảnh\n",
      "  Tổng: 350 ảnh\n",
      "\n",
      "TEST:\n",
      "  - nam_nghieng: 27 ảnh\n",
      "  - nam_ngua: 32 ảnh\n",
      "  - nam_sap: 30 ảnh\n",
      "  Tổng: 89 ảnh\n"
     ]
    }
   ],
   "source": [
    "# Hàm phân chia và sao chép dữ liệu\n",
    "def split_and_copy_data():\n",
    "    # Dictionary để lưu thông tin về số lượng ảnh đã phân chia\n",
    "    split_counts = {split: {class_name: 0 for class_name in classes} for split in splits}\n",
    "    \n",
    "    # Phân chia và sao chép dữ liệu cho mỗi lớp\n",
    "    for class_name in classes:\n",
    "        # Lấy danh sách các tệp của lớp hiện tại\n",
    "        files = files_by_class[class_name]\n",
    "        # Xáo trộn danh sách tệp để đảm bảo tính ngẫu nhiên\n",
    "        random.shuffle(files)\n",
    "        \n",
    "        # Tính toán các chỉ số phân chia\n",
    "        num_files = len(files)\n",
    "        num_train = int(train_ratio * num_files)\n",
    "        # num_val = int(val_ratio * num_files)\n",
    "        \n",
    "        # Phân chia dữ liệu\n",
    "        train_files = files[:num_train]\n",
    "        # val_files = files[num_train:num_train+num_val]\n",
    "        # test_files = files[num_train+num_val:]\n",
    "        test_files = files[num_train:]\n",
    "        \n",
    "        # Lưu trữ số lượng tệp đã phân chia\n",
    "        split_counts['train'][class_name] = len(train_files)\n",
    "        # split_counts['val'][class_name] = len(val_files)\n",
    "        split_counts['test'][class_name] = len(test_files)\n",
    "        \n",
    "        # Sao chép các tệp vào thư mục tương ứng\n",
    "        split_files = {\n",
    "            'train': train_files,\n",
    "            # 'val': val_files,\n",
    "            'test': test_files\n",
    "        }\n",
    "        \n",
    "        for split, files_list in split_files.items():\n",
    "            for file_name in files_list:\n",
    "                source = data_source_path / class_name / file_name\n",
    "                destination = data_dest_path / split / class_name / file_name\n",
    "                shutil.copy2(source, destination)\n",
    "    \n",
    "    return split_counts\n",
    "\n",
    "# Thực hiện phân chia và sao chép dữ liệu\n",
    "split_counts = split_and_copy_data()\n",
    "\n",
    "# In thông tin về số lượng ảnh đã phân chia\n",
    "print(\"Kết quả phân chia dữ liệu:\")\n",
    "for split in splits:\n",
    "    print(f\"\\n{split.upper()}:\")\n",
    "    for class_name in classes:\n",
    "        print(f\"  - {class_name}: {split_counts[split][class_name]} ảnh\")\n",
    "    print(f\"  Tổng: {sum(split_counts[split].values())} ảnh\")"
   ]
  },
  {
   "cell_type": "code",
   "execution_count": 16,
   "id": "eedb5cd1",
   "metadata": {},
   "outputs": [
    {
     "data": {
      "image/png": "[encoded data removed]",
      "text/plain": [
       "<Figure size 1200x700 with 1 Axes>"
      ]
     },
     "metadata": {},
     "output_type": "display_data"
    }
   ],
   "source": [
    "# Hiển thị biểu đồ phân bố dữ liệu sau khi phân chia\n",
    "class_names = classes\n",
    "x = np.arange(len(class_names))\n",
    "width = 0.25\n",
    "\n",
    "fig, ax = plt.subplots(figsize=(12, 7))\n",
    "\n",
    "# Dữ liệu cho mỗi split\n",
    "train_counts = [split_counts['train'][class_name] for class_name in class_names]\n",
    "# val_counts = [split_counts['val'][class_name] for class_name in class_names]\n",
    "test_counts = [split_counts['test'][class_name] for class_name in class_names]\n",
    "\n",
    "# Vẽ các thanh\n",
    "train_bars = ax.bar(x - width, train_counts, width, label='Train', color='blue')\n",
    "# val_bars = ax.bar(x, val_counts, width, label='Validation', color='green')\n",
    "# test_bars = ax.bar(x + width, test_counts, width, label='Test', color='orange')\n",
    "test_bars = ax.bar(x, test_counts, width, label='Test', color='orange')\n",
    "\n",
    "# Thiết lập các thông số\n",
    "ax.set_title('Phân bố số lượng ảnh sau khi phân chia', fontsize=15)\n",
    "ax.set_xlabel('Lớp', fontsize=12)\n",
    "ax.set_ylabel('Số lượng ảnh', fontsize=12)\n",
    "ax.set_xticks(x)\n",
    "ax.set_xticklabels(class_names)\n",
    "ax.legend()\n",
    "\n",
    "# Thêm giá trị trên mỗi thanh\n",
    "def add_labels(bars):\n",
    "    for bar in bars:\n",
    "        height = bar.get_height()\n",
    "        ax.annotate(f'{height}',\n",
    "                    # xy=(bar.get_x() + bar.get_width() / 2, height),\n",
    "                    xy=(bar.get_x() + bar.get_width() / 2, height),\n",
    "                    xytext=(0, 3),\n",
    "                    textcoords=\"offset points\",\n",
    "                    ha='center', va='bottom')\n",
    "\n",
    "add_labels(train_bars)\n",
    "# add_labels(val_bars)\n",
    "add_labels(test_bars)\n",
    "\n",
    "plt.tight_layout()\n",
    "plt.show()"
   ]
  },
  {
   "cell_type": "markdown",
   "id": "714f1e70",
   "metadata": {},
   "source": [
    "## Tóm tắt kết quả\n",
    "\n",
    "Notebook đã thực hiện các công việc sau:\n",
    "\n",
    "1. Đã đọc dữ liệu ảnh từ 3 thư mục: `nam_nghieng`, `nam_ngua`, `nam_sap`\n",
    "2. Đã hiển thị số lượng ảnh trong mỗi thư mục\n",
    "3. Đã chia dữ liệu thành tập train (80%), test (20%)\n",
    "4. Đã tạo cấu trúc thư mục mới theo yêu cầu với các thư mục:\n",
    "   - `data/train/nam_nghieng`, `data/train/nam_ngua`, `data/train/nam_sap`\n",
    "   - `data/test/nam_nghieng`, `data/test/nam_ngua`, `data/test/nam_sap`\n",
    "5. Đã sao chép các tệp ảnh vào các thư mục tương ứng\n",
    "\n",
    "Cấu trúc thư mục kết quả như sau:\n",
    "```\n",
    "data/\n",
    "  ├── train/\n",
    "  │   ├── nam_nghieng/\n",
    "  │   ├── nam_ngua/\n",
    "  │   └── nam_sap/\n",
    "  └── test/\n",
    "      ├── nam_nghieng/\n",
    "      ├── nam_ngua/\n",
    "      └── nam_sap/\n",
    "```"
   ]
  }
 ],
 "metadata": {
  "kernelspec": {
   "display_name": "venv",
   "language": "python",
   "name": "python3"
  },
  "language_info": {
   "codemirror_mode": {
    "name": "ipython",
    "version": 3
   },
   "file_extension": ".py",
   "mimetype": "text/x-python",
   "name": "python",
   "nbconvert_exporter": "python",
   "pygments_lexer": "ipython3",
   "version": "3.12.8"
  }
 },
 "nbformat": 4,
 "nbformat_minor": 5
}
